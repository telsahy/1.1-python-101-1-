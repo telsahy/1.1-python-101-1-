{
 "cells": [
  {
   "cell_type": "markdown",
   "metadata": {},
   "source": [
    "# Python 101, Day 2\n",
    "---\n",
    "\n",
    "Today's topic is a continuation of yesterday's review of basic python programming. Today, we will extend this work to cover...\n",
    "\n",
    "* Logical Statements\n",
    "* Loops\n",
    "* Conditionals\n",
    "* Native python functions\n",
    "* Comprehensions\n",
    "* Building your own functions"
   ]
  },
  {
   "cell_type": "markdown",
   "metadata": {},
   "source": [
    "**Slack Question:** What are the data types we learned about yesterday?\n",
    "\n",
    "* lists\n",
    "* str\n",
    "* int\n",
    "* float\n",
    "* tuple\n",
    "* bool\n",
    "* dict\n",
    "* set"
   ]
  },
  {
   "cell_type": "code",
   "execution_count": 1,
   "metadata": {},
   "outputs": [
    {
     "name": "stdout",
     "output_type": "stream",
     "text": [
      "The Zen of Python, by Tim Peters\n",
      "\n",
      "Beautiful is better than ugly.\n",
      "Explicit is better than implicit.\n",
      "Simple is better than complex.\n",
      "Complex is better than complicated.\n",
      "Flat is better than nested.\n",
      "Sparse is better than dense.\n",
      "Readability counts.\n",
      "Special cases aren't special enough to break the rules.\n",
      "Although practicality beats purity.\n",
      "Errors should never pass silently.\n",
      "Unless explicitly silenced.\n",
      "In the face of ambiguity, refuse the temptation to guess.\n",
      "There should be one-- and preferably only one --obvious way to do it.\n",
      "Although that way may not be obvious at first unless you're Dutch.\n",
      "Now is better than never.\n",
      "Although never is often better than *right* now.\n",
      "If the implementation is hard to explain, it's a bad idea.\n",
      "If the implementation is easy to explain, it may be a good idea.\n",
      "Namespaces are one honking great idea -- let's do more of those!\n"
     ]
    }
   ],
   "source": [
    "import this"
   ]
  },
  {
   "cell_type": "code",
   "execution_count": 3,
   "metadata": {
    "collapsed": true
   },
   "outputs": [],
   "source": [
    "# Storing zen for later! The parenthesis alow for whitespace formatting!\n",
    "zen = (\n",
    "'''My Master\n",
    "The Zen of Python, by Tim Peters\n",
    "\n",
    "Beautiful is better than ugly.\n",
    "Explicit is better than implicit.\n",
    "Simple is better than complex.\n",
    "Complex is better than complicated.\n",
    "Flat is better than nested.\n",
    "Sparse is better than dense.\n",
    "Readability counts.\n",
    "Special cases aren't special enough to break the rules.\n",
    "Although practicality beats purity.\n",
    "Errors should never pass silently.\n",
    "Unless explicitly silenced.\n",
    "In the face of ambiguity, refuse the temptation to guess.\n",
    "There should be one-- and preferably only one --obvious way to do it.\n",
    "Although that way may not be obvious at first unless you're Dutch.\n",
    "Now is better than never.\n",
    "Although never is often better than *right* now.\n",
    "If the implementation is hard to explain, it's a bad idea.\n",
    "If the implementation is easy to explain, it may be a good idea.\n",
    "Namespaces are one honking great idea -- let's do more of those!\n",
    "'''\n",
    ")"
   ]
  },
  {
   "cell_type": "markdown",
   "metadata": {},
   "source": [
    "## Logical Statements:\n",
    "\n",
    "```python\n",
    "==  # equals\n",
    "<   # less than\n",
    ">   # greater than\n",
    "<=  # less than or equal to\n",
    ">=  # greater than or equal to\n",
    "!=  # not equal to\n",
    "&   # and\n",
    "|   # or\n",
    "^   # exclusive or (one or the other is True)\n",
    "and # and\n",
    "or  # or\n",
    "is  # equality, equivalence\n",
    "not # is not\n",
    "in  # prepositional, can check if value is in a list for example\n",
    "```"
   ]
  },
  {
   "cell_type": "code",
   "execution_count": 4,
   "metadata": {},
   "outputs": [
    {
     "data": {
      "text/plain": [
       "True"
      ]
     },
     "execution_count": 4,
     "metadata": {},
     "output_type": "execute_result"
    }
   ],
   "source": [
    "str == strMy Master"
   ]
  },
  {
   "cell_type": "code",
   "execution_count": 5,
   "metadata": {},
   "outputs": [
    {
     "data": {
      "text/plain": [
       "True"
      ]
     },
     "execution_count": 5,
     "metadata": {},
     "output_type": "execute_result"
    }
   ],
   "source": [
    "1 < 2"
   ]
  },
  {
   "cell_type": "code",
   "execution_count": 6,
   "metadata": {},
   "outputs": [
    {
     "data": {
      "text/plain": [
       "False"
      ]
     },
     "execution_count": 6,
     "metadata": {},
     "output_type": "execute_result"
    }
   ],
   "source": [
    "2 < 1"
   ]
  },
  {
   "cell_type": "code",
   "execution_count": 9,
   "metadata": {},
   "outputs": [
    {
     "data": {
      "text/plain": [
       "False"
      ]
     },
     "execution_count": 9,
     "metadata": {},
     "output_type": "execute_result"
    }
   ],
   "source": [
    "False and True"
   ]
  },
  {
   "cell_type": "code",
   "execution_count": 10,
   "metadata": {},
   "outputs": [
    {
     "data": {
      "text/plain": [
       "False"
      ]
     },
     "execution_count": 10,
     "metadata": {},
     "output_type": "execute_result"
    }
   ],
   "source": [
    "True & False"
   ]
  },
  {
   "cell_type": "code",
   "execution_count": 13,
   "metadata": {},
   "outputs": [
    {
     "data": {
      "text/plain": [
       "True"
      ]
     },
     "execution_count": 13,
     "metadata": {},
     "output_type": "execute_result"
    }
   ],
   "source": [
    "True or False"
   ]
  },
  {
   "cell_type": "code",
   "execution_count": 12,
   "metadata": {},
   "outputs": [
    {
     "data": {
      "text/plain": [
       "False"
      ]
     },
     "execution_count": 12,
     "metadata": {},
     "output_type": "execute_result"
    }
   ],
   "source": [
    "False or False"
   ]
  },
  {
   "cell_type": "code",
   "execution_count": 14,
   "metadata": {},
   "outputs": [
    {
     "data": {
      "text/plain": [
       "False"
      ]
     },
     "execution_count": 14,
     "metadata": {},
     "output_type": "execute_result"
    }
   ],
   "source": [
    "True & False"
   ]
  },
  {
   "cell_type": "code",
   "execution_count": 17,
   "metadata": {},
   "outputs": [
    {
     "data": {
      "text/plain": [
       "True"
      ]
     },
     "execution_count": 17,
     "metadata": {},
     "output_type": "execute_result"
    }
   ],
   "source": [
    "True or True"
   ]
  },
  {
   "cell_type": "code",
   "execution_count": 16,
   "metadata": {},
   "outputs": [
    {
     "data": {
      "text/plain": [
       "False"
      ]
     },
     "execution_count": 16,
     "metadata": {},
     "output_type": "execute_result"
    }
   ],
   "source": [
    "True ^ True"
   ]
  },
  {
   "cell_type": "code",
   "execution_count": 18,
   "metadata": {},
   "outputs": [
    {
     "data": {
      "text/plain": [
       "True"
      ]
     },
     "execution_count": 18,
     "metadata": {},
     "output_type": "execute_result"
    }
   ],
   "source": [
    "True ^ False"
   ]
  },
  {
   "cell_type": "code",
   "execution_count": 19,
   "metadata": {},
   "outputs": [
    {
     "data": {
      "text/plain": [
       "True"
      ]
     },
     "execution_count": 19,
     "metadata": {},
     "output_type": "execute_result"
    }
   ],
   "source": [
    "False ^ True"
   ]
  },
  {
   "cell_type": "code",
   "execution_count": 20,
   "metadata": {},
   "outputs": [
    {
     "data": {
      "text/plain": [
       "False"
      ]
     },
     "execution_count": 20,
     "metadata": {},
     "output_type": "execute_result"
    }
   ],
   "source": [
    "'i' in 'hello'"
   ]
  },
  {
   "cell_type": "code",
   "execution_count": 21,
   "metadata": {},
   "outputs": [
    {
     "data": {
      "text/plain": [
       "True"
      ]
     },
     "execution_count": 21,
     "metadata": {},
     "output_type": "execute_result"
    }
   ],
   "source": [
    "'o' in 'hello'"
   ]
  },
  {
   "cell_type": "code",
   "execution_count": 23,
   "metadata": {},
   "outputs": [
    {
     "data": {
      "text/plain": [
       "True"
      ]
     },
     "execution_count": 23,
     "metadata": {},
     "output_type": "execute_result"
    }
   ],
   "source": [
    "'h' in list('hello')"
   ]
  },
  {
   "cell_type": "code",
   "execution_count": 25,
   "metadata": {},
   "outputs": [
    {
     "data": {
      "text/plain": [
       "True"
      ]
     },
     "execution_count": 25,
     "metadata": {},
     "output_type": "execute_result"
    }
   ],
   "source": [
    "True == True"
   ]
  },
  {
   "cell_type": "code",
   "execution_count": 27,
   "metadata": {},
   "outputs": [
    {
     "data": {
      "text/plain": [
       "False"
      ]
     },
     "execution_count": 27,
     "metadata": {},
     "output_type": "execute_result"
    }
   ],
   "source": [
    "True == False"
   ]
  },
  {
   "cell_type": "code",
   "execution_count": 29,
   "metadata": {},
   "outputs": [
    {
     "data": {
      "text/plain": [
       "True"
      ]
     },
     "execution_count": 29,
     "metadata": {},
     "output_type": "execute_result"
    }
   ],
   "source": [
    "\"hello\" is \"hello\""
   ]
  },
  {
   "cell_type": "code",
   "execution_count": 16,
   "metadata": {},
   "outputs": [
    {
     "data": {
      "text/plain": [
       "True"
      ]
     },
     "execution_count": 16,
     "metadata": {},
     "output_type": "execute_result"
    }
   ],
   "source": [
    "(True or False) and (False is False)"
   ]
  },
  {
   "cell_type": "markdown",
   "metadata": {},
   "source": [
    "## For loops\n",
    "\n",
    "For loops are VERY common in python programming. There usually used when iteratinv over an object like a `list`, `tuple`, or `dict.keys()`. When we use a for loop, we can perform an operation on each item! Here's the general structure for a `for` loop:\n",
    "\n",
    "```\n",
    "for element in iterator:\n",
    "    do_something_with_element\n",
    "```\n",
    "\n",
    "Take a look at `this_list`, instantiated below. Let's create a loop that prints each element in the list and the type of the element.\n",
    "\n",
    "**NOTE:** Python has *really* cool whitewpace formatting. If you're inside a list or tuple, Python ignores whitespace, so you can create lists, dicts, etc. as we do below. There will be many exaples of this today."
   ]
  },
  {
   "cell_type": "code",
   "execution_count": 30,
   "metadata": {
    "collapsed": true
   },
   "outputs": [],
   "source": [
    "this_list = [\n",
    "             'who',\n",
    "             'is',\n",
    "             'number',\n",
    "             1,\n",
    "             '?',\n",
    "             8.1, \n",
    "             (1.5, 'foo')\n",
    "            ]"
   ]
  },
  {
   "cell_type": "code",
   "execution_count": 31,
   "metadata": {},
   "outputs": [
    {
     "data": {
      "text/plain": [
       "['who', 'is', 'number', 1, '?', 8.1, (1.5, 'foo')]"
      ]
     },
     "execution_count": 31,
     "metadata": {},
     "output_type": "execute_result"
    }
   ],
   "source": [
    "this_list"
   ]
  },
  {
   "cell_type": "code",
   "execution_count": 32,
   "metadata": {},
   "outputs": [
    {
     "name": "stdout",
     "output_type": "stream",
     "text": [
      "who <class 'str'>\n",
      "is <class 'str'>\n",
      "number <class 'str'>\n",
      "1 <class 'int'>\n",
      "? <class 'str'>\n",
      "8.1 <class 'float'>\n",
      "(1.5, 'foo') <class 'tuple'>\n"
     ]
    }
   ],
   "source": [
    "for element in this_list:\n",
    "    print(element, type(element))"
   ]
  },
  {
   "cell_type": "markdown",
   "metadata": {},
   "source": [
    "For loops are also great for iterating through nested data structures. Below, let's instantiate this lists of lists. Let's create a nested `for` loop that creates a new dataset with only strings!"
   ]
  },
  {
   "cell_type": "code",
   "execution_count": 35,
   "metadata": {
    "collapsed": true
   },
   "outputs": [],
   "source": [
    "this_data = [\n",
    "    ['mike','green',1],\n",
    "    ['josh','blue',8],\n",
    "    ['dave','red',35]\n",
    "]"
   ]
  },
  {
   "cell_type": "code",
   "execution_count": 34,
   "metadata": {},
   "outputs": [
    {
     "data": {
      "text/plain": [
       "['mike', 'green', 1]"
      ]
     },
     "execution_count": 34,
     "metadata": {},
     "output_type": "execute_result"
    }
   ],
   "source": [
    "this_data[0]"
   ]
  },
  {
   "cell_type": "code",
   "execution_count": 45,
   "metadata": {
    "collapsed": true
   },
   "outputs": [],
   "source": [
    "new_data = []"
   ]
  },
  {
   "cell_type": "code",
   "execution_count": 50,
   "metadata": {
    "collapsed": true
   },
   "outputs": [],
   "source": [
    "for row in this_data:\n",
    "    new_row = []\n",
    "    for element in row:\n",
    "        if type(element) is str:\n",
    "            new_row.append(element)\n",
    "    new_data.append(new_row)"
   ]
  },
  {
   "cell_type": "code",
   "execution_count": 51,
   "metadata": {},
   "outputs": [
    {
     "data": {
      "text/plain": [
       "[['mike', 'green'],\n",
       " ['josh', 'blue'],\n",
       " ['dave', 'red'],\n",
       " ['mike', 'green'],\n",
       " ['josh', 'blue'],\n",
       " ['dave', 'red'],\n",
       " ['mike', 'green'],\n",
       " ['josh', 'blue'],\n",
       " ['dave', 'red']]"
      ]
     },
     "execution_count": 51,
     "metadata": {},
     "output_type": "execute_result"
    }
   ],
   "source": [
    "new_data"
   ]
  },
  {
   "cell_type": "markdown",
   "metadata": {},
   "source": [
    "#### Question:\n",
    "\n",
    "What will happen if I run the nested `for` loop again without re-instantiating `new_data`?"
   ]
  },
  {
   "cell_type": "markdown",
   "metadata": {},
   "source": [
    "**(Double click here to put your answer in markdown! Use `shift+return` to exit edit mode!)**"
   ]
  },
  {
   "cell_type": "markdown",
   "metadata": {},
   "source": [
    "#### Exercise:\n",
    "\n",
    "Let's find out how many words are in each line of `zen`. Notice each **new line** is denoted by a `\"\\n\"`. We can use `string.split()` to split by new line and on spaces. Use for loops to create a list, where each element in the list is the length of its corresponding line.\n",
    "\n",
    "Your result should look like:\n",
    "```python\n",
    "[0, 7, 0, 5, 5, 5, 5, 5, 5, 2, 9, 4, 5, 3, 10, 13, 12, 5, 8, 11, 13, 12, 0]\n",
    "```"
   ]
  },
  {
   "cell_type": "code",
   "execution_count": 65,
   "metadata": {},
   "outputs": [
    {
     "data": {
      "text/plain": [
       "[0, 7, 0, 5, 5, 5, 5, 5, 5, 2, 9, 4, 5, 3, 10, 13, 12, 5, 8, 11, 13, 12, 0]"
      ]
     },
     "execution_count": 65,
     "metadata": {},
     "output_type": "execute_result"
    }
   ],
   "source": [
    "# Mark's solution\n",
    "\n",
    "line_length_list = []\n",
    "\n",
    "split_on_line = zen.split('\\n')\n",
    "for row in split_on_line:\n",
    "    words = row.split()\n",
    "    line_length_list.append(len(words))\n",
    "\n",
    "line_length_list"
   ]
  },
  {
   "cell_type": "code",
   "execution_count": 23,
   "metadata": {},
   "outputs": [
    {
     "data": {
      "text/plain": [
       "[]"
      ]
     },
     "execution_count": 23,
     "metadata": {},
     "output_type": "execute_result"
    }
   ],
   "source": [
    "line_length_list = []\n",
    "\n",
    "# Your code here\n",
    "\n",
    "line_length_list"
   ]
  },
  {
   "cell_type": "markdown",
   "metadata": {},
   "source": [
    "### Using `for` loops with dictionaries"
   ]
  },
  {
   "cell_type": "code",
   "execution_count": 66,
   "metadata": {
    "collapsed": true
   },
   "outputs": [],
   "source": [
    "this_dict = {\n",
    "    'foo':'bar',\n",
    "    1:2,\n",
    "    'hello':'world',\n",
    "    'DSI':'Plus'\n",
    "}"
   ]
  },
  {
   "cell_type": "code",
   "execution_count": 67,
   "metadata": {},
   "outputs": [
    {
     "data": {
      "text/plain": [
       "dict_keys(['foo', 1, 'hello', 'DSI'])"
      ]
     },
     "execution_count": 67,
     "metadata": {},
     "output_type": "execute_result"
    }
   ],
   "source": [
    "this_dict.keys()"
   ]
  },
  {
   "cell_type": "code",
   "execution_count": 68,
   "metadata": {},
   "outputs": [
    {
     "data": {
      "text/plain": [
       "dict_values(['bar', 2, 'world', 'Plus'])"
      ]
     },
     "execution_count": 68,
     "metadata": {},
     "output_type": "execute_result"
    }
   ],
   "source": [
    "this_dict.values()"
   ]
  },
  {
   "cell_type": "code",
   "execution_count": 69,
   "metadata": {},
   "outputs": [
    {
     "data": {
      "text/plain": [
       "dict_items([('foo', 'bar'), (1, 2), ('hello', 'world'), ('DSI', 'Plus')])"
      ]
     },
     "execution_count": 69,
     "metadata": {},
     "output_type": "execute_result"
    }
   ],
   "source": [
    "this_dict.items()"
   ]
  },
  {
   "cell_type": "code",
   "execution_count": 70,
   "metadata": {
    "scrolled": true
   },
   "outputs": [
    {
     "name": "stdout",
     "output_type": "stream",
     "text": [
      "foo\n",
      "1\n",
      "hello\n",
      "DSI\n"
     ]
    }
   ],
   "source": [
    "for key in this_dict.keys():\n",
    "    print(key)"
   ]
  },
  {
   "cell_type": "code",
   "execution_count": 71,
   "metadata": {
    "scrolled": true
   },
   "outputs": [
    {
     "name": "stdout",
     "output_type": "stream",
     "text": [
      "bar\n",
      "2\n",
      "world\n",
      "Plus\n"
     ]
    }
   ],
   "source": [
    "for value in this_dict.values():\n",
    "    print(value)"
   ]
  },
  {
   "cell_type": "code",
   "execution_count": 73,
   "metadata": {},
   "outputs": [
    {
     "name": "stdout",
     "output_type": "stream",
     "text": [
      "the key is foo and the value is bar\n",
      "the key is 1 and the value is 2\n",
      "the key is hello and the value is world\n",
      "the key is DSI and the value is Plus\n"
     ]
    }
   ],
   "source": [
    "for key, value in this_dict.items():\n",
    "    print('the key is {} and the value is {}'.format(key, value))"
   ]
  },
  {
   "cell_type": "markdown",
   "metadata": {},
   "source": [
    "#### Exercise:\n",
    "\n",
    "Complete the `for` loop to reverse the `keys` and `values` in `this_dict`.\n",
    "\n",
    "Your result should look like:\n",
    "\n",
    "```python\n",
    "{'bar': 'foo', 2: 1, 'world': 'hello', 'Plus': 'DSI'}\n",
    "```\n",
    "\n",
    "**HINT:** Remember, to set a key:value pair in a `dict`, use `your_dict_name[key] = value`"
   ]
  },
  {
   "cell_type": "code",
   "execution_count": 75,
   "metadata": {},
   "outputs": [
    {
     "data": {
      "text/plain": [
       "{'bar': 'foo', 2: 1, 'world': 'hello', 'Plus': 'DSI'}"
      ]
     },
     "execution_count": 75,
     "metadata": {},
     "output_type": "execute_result"
    }
   ],
   "source": [
    "# William's solution\n",
    "\n",
    "new_dict= {}\n",
    "\n",
    "for key, value in this_dict.items():\n",
    "    new_dict[value] = key\n",
    "\n",
    "new_dict"
   ]
  },
  {
   "cell_type": "code",
   "execution_count": 74,
   "metadata": {},
   "outputs": [
    {
     "data": {
      "text/plain": [
       "{}"
      ]
     },
     "execution_count": 74,
     "metadata": {},
     "output_type": "execute_result"
    }
   ],
   "source": [
    "new_dict = {}\n",
    "\n",
    "# your code here\n",
    "\n",
    "new_dict"
   ]
  },
  {
   "cell_type": "markdown",
   "metadata": {},
   "source": [
    "#### Extra fudge supreme challenge:\n",
    "\n",
    "Use a for loop to reverse the keys and values in `this_nested_dict`. \n",
    "\n",
    "The original `dict` looks like:\n",
    "\n",
    "```python\n",
    "{1: {'a': 'extra', 'b': 'fudge'}, 2: {'c': 'supreme', 'd': 'challenge'}}\n",
    "```\n",
    "\n",
    "\n",
    "Your result should look like: \n",
    "\n",
    "```python\n",
    "{1: {'extra': 'a', 'fudge': 'b'}, 2: {'challenge': 'd', 'supreme': 'c'}}\n",
    "```"
   ]
  },
  {
   "cell_type": "code",
   "execution_count": 76,
   "metadata": {},
   "outputs": [
    {
     "data": {
      "text/plain": [
       "{1: {'a': 'extra', 'b': 'fudge'}, 2: {'c': 'supreme', 'd': 'challenge'}}"
      ]
     },
     "execution_count": 76,
     "metadata": {},
     "output_type": "execute_result"
    }
   ],
   "source": [
    "this_nested_dict = {\n",
    "    1:{\n",
    "        'a':'extra',\n",
    "        'b':'fudge'\n",
    "    },\n",
    "    2:{\n",
    "        'c':'supreme',\n",
    "        'd':'challenge'\n",
    "    }\n",
    "}\n",
    "\n",
    "this_nested_dict"
   ]
  },
  {
   "cell_type": "code",
   "execution_count": 83,
   "metadata": {},
   "outputs": [
    {
     "name": "stdout",
     "output_type": "stream",
     "text": [
      "1 {'a': 'extra', 'b': 'fudge'}\n",
      "1 {'a': 'extra', 'b': 'fudge'}\n",
      "2 {'c': 'supreme', 'd': 'challenge'}\n",
      "2 {'c': 'supreme', 'd': 'challenge'}\n"
     ]
    },
    {
     "data": {
      "text/plain": [
       "{1: {'extra': 'a', 'fudge': 'b'}, 2: {'challenge': 'd', 'supreme': 'c'}}"
      ]
     },
     "execution_count": 83,
     "metadata": {},
     "output_type": "execute_result"
    }
   ],
   "source": [
    "# Delmar's solution\n",
    "\n",
    "reversed_nested_dict = {}\n",
    "\n",
    "for key,value in this_nested_dict.items():\n",
    "    \n",
    "    tempdic = {}\n",
    "    \n",
    "    for key1, value1 in value.items():\n",
    "        tempdic[value1]=key1\n",
    "        print(key, value)\n",
    "        \n",
    "    reversed_nested_dict[key]=tempdic\n",
    "    \n",
    "reversed_nested_dict"
   ]
  },
  {
   "cell_type": "markdown",
   "metadata": {},
   "source": [
    "## While loops\n",
    "\n",
    "`while` loops are great when you want to perform an operation as long as a condition is true.\n",
    "\n",
    "Below, we set the variable `x` equal to `1`. Notice that `x < 10` evaluates to `True`, while `x+9 < 10` evaluates to False. Now, let's break down the while loop following the conditionals."
   ]
  },
  {
   "cell_type": "code",
   "execution_count": 98,
   "metadata": {
    "collapsed": true
   },
   "outputs": [],
   "source": [
    "x = 1"
   ]
  },
  {
   "cell_type": "code",
   "execution_count": 99,
   "metadata": {},
   "outputs": [
    {
     "data": {
      "text/plain": [
       "True"
      ]
     },
     "execution_count": 99,
     "metadata": {},
     "output_type": "execute_result"
    }
   ],
   "source": [
    "x < 10"
   ]
  },
  {
   "cell_type": "code",
   "execution_count": 100,
   "metadata": {},
   "outputs": [
    {
     "data": {
      "text/plain": [
       "False"
      ]
     },
     "execution_count": 100,
     "metadata": {},
     "output_type": "execute_result"
    }
   ],
   "source": [
    "x+9 < 10"
   ]
  },
  {
   "cell_type": "code",
   "execution_count": 102,
   "metadata": {},
   "outputs": [
    {
     "name": "stdout",
     "output_type": "stream",
     "text": [
      "1\n",
      "2\n",
      "3\n",
      "4\n",
      "5\n",
      "6\n",
      "7\n",
      "8\n",
      "9\n"
     ]
    }
   ],
   "source": [
    "while x < 10:\n",
    "    print(x)\n",
    "    x += 1"
   ]
  },
  {
   "cell_type": "markdown",
   "metadata": {},
   "source": [
    "#### Questions:\n",
    "\n",
    "1. If we run the while loop again, what will happen? Why?\n",
    "1. If we remove the line `x += 1`, what will happen?\n"
   ]
  },
  {
   "cell_type": "markdown",
   "metadata": {},
   "source": [
    "#### Discussion:\n",
    "\n",
    "It's easy to get stuck in an **infinite loop** with while loops! These are dangerous and can easily crash your kernel. If you don't increment your counter or allow for your condition to be `False`, you will never exit the loop. Below are a few examples that will cause an infinite loop. Can you identify why these loops will be infinite?\n",
    "```\n",
    "counter = 60\n",
    "while counter >= 5:\n",
    "    print(counter)\n",
    "    \n",
    "counter = 60\n",
    "while counter <= 60:\n",
    "    print(counter)\n",
    "    counter -= 5\n",
    "    \n",
    "while True:\n",
    "    print('foo')\n",
    "```\n",
    "\n"
   ]
  },
  {
   "cell_type": "markdown",
   "metadata": {},
   "source": [
    "#### Exercise:\n",
    "\n",
    "Write a while loop that counts down (prints a number) from 1000 by 50s as long as the value is less than or equal to -100."
   ]
  },
  {
   "cell_type": "code",
   "execution_count": 35,
   "metadata": {
    "collapsed": true
   },
   "outputs": [],
   "source": [
    "# Your code here"
   ]
  },
  {
   "cell_type": "markdown",
   "metadata": {},
   "source": [
    "## Conditionals\n",
    "\n",
    "### `if`, `elif`, and `else`\n",
    "\n",
    "* `if` and `elif` evaluate conditions. If the condition is `True`, the code indented after the `if` or `elif` statement is executed. \n",
    "* In the `if/elif/else` flow, `if` **must** be the first statement. It can be followed with any number of `elif` statements. \n",
    "* `else` comes at the end, and acts as a catch-all for anything that doesn't evaluate in the `if` or `elif` statements. \n",
    "* `else` statements are not needed... if the `if/elif` statements are not executed and there is no `else` statement, nothing will happen. \n",
    "\n",
    "In python3, `input()` allows for the input of a string. For the two code cells below, can you predict what will happen?"
   ]
  },
  {
   "cell_type": "code",
   "execution_count": 105,
   "metadata": {},
   "outputs": [
    {
     "name": "stdout",
     "output_type": "stream",
     "text": [
      "What's your name?mike\n"
     ]
    }
   ],
   "source": [
    "name = input(\"What's your name?\")\n",
    "if len(name) == 0:\n",
    "    print(\"You didn't enter anything!\")\n",
    "elif len(name) < 2:\n",
    "    print(\"That's an awfully short name...\")"
   ]
  },
  {
   "cell_type": "markdown",
   "metadata": {},
   "source": [
    "**Slack question:** "
   ]
  },
  {
   "cell_type": "markdown",
   "metadata": {},
   "source": [
    "#### Exercise:\n",
    "\n",
    "Modify the code above with an `else` statement that uses string interpolation (`\"{}\"` and `.format()`) to print \"Your name is (your input string).\" Test your conditional to make sure it works the way you'd expect!"
   ]
  },
  {
   "cell_type": "markdown",
   "metadata": {},
   "source": [
    "#### Exercise:\n",
    "\n",
    "`eval(input())` in python3 allows for inputs of type `int` and `float`. Using `eval(input())`, make an `if/elif/else` statement that:\n",
    "* Requests a numerical input between 1 and 100\n",
    "* If the number is greater than or equal to 1 and less than 50, print `\"too small!\"`\n",
    "* If the number is greater than 50 and less than or equal to 100, print `\"too large!\"`\n",
    "* If the number is 50, print `\"just right!\"`\n",
    "* If the user did not follow instructions (number smaller than 1 or greater than 100), print `\"RTFM!\"` (read the f\\*\\*\\*ing manual)"
   ]
  },
  {
   "cell_type": "code",
   "execution_count": 113,
   "metadata": {},
   "outputs": [
    {
     "name": "stdout",
     "output_type": "stream",
     "text": [
      "Enter a number between 1 and 100.01\n",
      "RTFM!\n"
     ]
    }
   ],
   "source": [
    "x = eval(input(\"Enter a number between 1 and 100\"))\n",
    "if 1 <= x < 50:\n",
    "    print('too small!')\n",
    "elif 50 < x <= 100:\n",
    "    print('too large!')\n",
    "elif x == 50:\n",
    "    print('just right!')  \n",
    "else:\n",
    "    print('RTFM!')"
   ]
  },
  {
   "cell_type": "markdown",
   "metadata": {},
   "source": [
    "### `try`/`except`\n",
    "\n",
    "`try` and `except` are great for error handling. This becomes SUPER useful when you're working with databases and APIs that may not work every time. \n",
    "\n",
    "`try` tells python to try something, and `except` tells python what to do if the `try` statement doesn't work (throws an error). \n",
    "\n",
    "Let's take a look at an example:"
   ]
  },
  {
   "cell_type": "code",
   "execution_count": 117,
   "metadata": {},
   "outputs": [
    {
     "ename": "ValueError",
     "evalue": "invalid literal for int() with base 10: 'one'",
     "output_type": "error",
     "traceback": [
      "\u001b[0;31m---------------------------------------------------------------------------\u001b[0m",
      "\u001b[0;31mValueError\u001b[0m                                Traceback (most recent call last)",
      "\u001b[0;32m<ipython-input-117-5cd28f4a0635>\u001b[0m in \u001b[0;36m<module>\u001b[0;34m()\u001b[0m\n\u001b[0;32m----> 1\u001b[0;31m \u001b[0mint\u001b[0m\u001b[0;34m(\u001b[0m\u001b[0;34m'one'\u001b[0m\u001b[0;34m)\u001b[0m\u001b[0;34m\u001b[0m\u001b[0m\n\u001b[0m",
      "\u001b[0;31mValueError\u001b[0m: invalid literal for int() with base 10: 'one'"
     ]
    }
   ],
   "source": [
    "int('one')"
   ]
  },
  {
   "cell_type": "code",
   "execution_count": 118,
   "metadata": {},
   "outputs": [
    {
     "name": "stdout",
     "output_type": "stream",
     "text": [
      "That's not going to work, genius!\n"
     ]
    }
   ],
   "source": [
    "try:\n",
    "    int('one')\n",
    "except:\n",
    "    print(\"That's not going to work, genius!\")"
   ]
  },
  {
   "cell_type": "markdown",
   "metadata": {},
   "source": [
    "#### Exercise:\n",
    "\n",
    "In the list below, se a `for` loop with `if/then` and `try/except` statements to convert any elements of type `int` to `float`, and store the values in `new_list`. If you cannot convert the element to `float`, append the original value of the element."
   ]
  },
  {
   "cell_type": "code",
   "execution_count": 119,
   "metadata": {
    "collapsed": true
   },
   "outputs": [],
   "source": [
    "this_list = ['who','is','number','1',True,False,2.538, 2000, None]"
   ]
  },
  {
   "cell_type": "code",
   "execution_count": 120,
   "metadata": {},
   "outputs": [
    {
     "data": {
      "text/plain": [
       "['who', 'is', 'number', 1.0, 1.0, 0.0, 2.538, 2000.0, None]"
      ]
     },
     "execution_count": 120,
     "metadata": {},
     "output_type": "execute_result"
    }
   ],
   "source": [
    "new_list = []\n",
    "\n",
    "for element in this_list:\n",
    "    try:\n",
    "        new_list.append(float(element))\n",
    "    except:\n",
    "        new_list.append(element)\n",
    "\n",
    "new_list"
   ]
  },
  {
   "cell_type": "markdown",
   "metadata": {},
   "source": [
    "## Native Python Functions\n",
    "---\n",
    "\n"
   ]
  },
  {
   "cell_type": "markdown",
   "metadata": {},
   "source": [
    "### Range\n",
    "\n",
    "`range` allows you to iterate over an ordered list of numbers. It takes 3 arguments: start, stop, and step. \n",
    "* `start`: What number should we start at?\n",
    "* `stop`: What number should we end at? (non-inclusive)\n",
    "* `step`: What's our step size? \n",
    "\n",
    "**Note:** `range` differs in python2 and python3. In python2, `range` returns a list. In python3, `range` returns an object that isn't evaluated until called. Here are some equivalent statements in python2 and python3:\n",
    "\n",
    "*python2*\n",
    "```python\n",
    "In: range(10)\n",
    "Out: [0,1,2,3,4,5,6,7,8,9]\n",
    "```\n",
    "\n",
    "*python3*\n",
    "```python\n",
    "In: range(10)\n",
    "Out: range(0,10)\n",
    "In: list(range(10))\n",
    "Out: [0,1,2,3,4,5,6,7,8,9]\n",
    "```\n",
    "\n",
    "However, you can still iterate over a `range` object just like you would if it returned a `list`! "
   ]
  },
  {
   "cell_type": "code",
   "execution_count": 121,
   "metadata": {},
   "outputs": [
    {
     "data": {
      "text/plain": [
       "range(0, 10)"
      ]
     },
     "execution_count": 121,
     "metadata": {},
     "output_type": "execute_result"
    }
   ],
   "source": [
    "range(10)"
   ]
  },
  {
   "cell_type": "code",
   "execution_count": 122,
   "metadata": {},
   "outputs": [
    {
     "data": {
      "text/plain": [
       "[0, 1, 2, 3, 4, 5, 6, 7, 8, 9]"
      ]
     },
     "execution_count": 122,
     "metadata": {},
     "output_type": "execute_result"
    }
   ],
   "source": [
    "list(range(10))"
   ]
  },
  {
   "cell_type": "code",
   "execution_count": 123,
   "metadata": {},
   "outputs": [
    {
     "data": {
      "text/plain": [
       "[1, 2, 3, 4, 5, 6, 7, 8, 9, 10]"
      ]
     },
     "execution_count": 123,
     "metadata": {},
     "output_type": "execute_result"
    }
   ],
   "source": [
    "list(range(1,11))"
   ]
  },
  {
   "cell_type": "code",
   "execution_count": 124,
   "metadata": {},
   "outputs": [
    {
     "data": {
      "text/plain": [
       "[1, 3, 5, 7, 9]"
      ]
     },
     "execution_count": 124,
     "metadata": {},
     "output_type": "execute_result"
    }
   ],
   "source": [
    "list(range(1,11,2))"
   ]
  },
  {
   "cell_type": "markdown",
   "metadata": {},
   "source": [
    "#### Exercise:\n",
    "\n",
    "Fill in the following `for` loop so that the variable `alphabet` is populated with the letters `a-z`.\n",
    "\n",
    "**Hints:**\n",
    "* `ord()`, short for ordinal, takes the argument of a letter and returns a corresponding number.\n",
    "* `chr()` takes the argument of an ordinal number (number that represents a character in 'ascii') and returns the corresponding letter\n",
    "* You can add two strings (`'foo' + 'bar'` = `'foobar'`)\n",
    "* Keep stopping criteria for `range()` in mind\n",
    "\n",
    "Below, alphabet is defined for you, and the loop structure is set up."
   ]
  },
  {
   "cell_type": "code",
   "execution_count": 125,
   "metadata": {},
   "outputs": [
    {
     "data": {
      "text/plain": [
       "97"
      ]
     },
     "execution_count": 125,
     "metadata": {},
     "output_type": "execute_result"
    }
   ],
   "source": [
    "ord('a')"
   ]
  },
  {
   "cell_type": "code",
   "execution_count": 126,
   "metadata": {},
   "outputs": [
    {
     "data": {
      "text/plain": [
       "122"
      ]
     },
     "execution_count": 126,
     "metadata": {},
     "output_type": "execute_result"
    }
   ],
   "source": [
    "ord('z')"
   ]
  },
  {
   "cell_type": "code",
   "execution_count": 128,
   "metadata": {},
   "outputs": [
    {
     "data": {
      "text/plain": [
       "'z'"
      ]
     },
     "execution_count": 128,
     "metadata": {},
     "output_type": "execute_result"
    }
   ],
   "source": [
    "chr(122)"
   ]
  },
  {
   "cell_type": "code",
   "execution_count": 127,
   "metadata": {},
   "outputs": [
    {
     "data": {
      "text/plain": [
       "range(97, 123)"
      ]
     },
     "execution_count": 127,
     "metadata": {},
     "output_type": "execute_result"
    }
   ],
   "source": [
    "range(ord('a'), ord('z')+1)"
   ]
  },
  {
   "cell_type": "code",
   "execution_count": 132,
   "metadata": {},
   "outputs": [
    {
     "name": "stdout",
     "output_type": "stream",
     "text": [
      "abcdefghijklmnopqrstuvwxyz\n"
     ]
    }
   ],
   "source": [
    "alphabet = ''\n",
    "\n",
    "for i in range(ord('a'), ord('z')+1):\n",
    "    alphabet += chr(i)\n",
    "\n",
    "print(alphabet)"
   ]
  },
  {
   "cell_type": "code",
   "execution_count": 131,
   "metadata": {},
   "outputs": [
    {
     "data": {
      "text/plain": [
       "'helloworld'"
      ]
     },
     "execution_count": 131,
     "metadata": {},
     "output_type": "execute_result"
    }
   ],
   "source": [
    "'hello' + 'world'"
   ]
  },
  {
   "cell_type": "markdown",
   "metadata": {},
   "source": [
    "### Enumerate\n",
    "\n",
    "`enumerate` is a function that works on lists or iterators. For each item in an iterable (list, tuple, etc.), `enumerate` returns the index (usually denoted `i`, as shown below) and the item in a tuple. Here's an example use case:"
   ]
  },
  {
   "cell_type": "markdown",
   "metadata": {},
   "source": [
    "Which indices in `this_list` are not of type `str`?"
   ]
  },
  {
   "cell_type": "code",
   "execution_count": 133,
   "metadata": {},
   "outputs": [
    {
     "name": "stdout",
     "output_type": "stream",
     "text": [
      "who\n",
      "is\n",
      "number\n",
      "1\n",
      "True\n",
      "False\n",
      "2.538\n",
      "2000\n",
      "None\n"
     ]
    }
   ],
   "source": [
    "for item in this_list:\n",
    "    print(item)"
   ]
  },
  {
   "cell_type": "code",
   "execution_count": 134,
   "metadata": {},
   "outputs": [
    {
     "data": {
      "text/plain": [
       "<enumerate at 0x7fa5506e38b8>"
      ]
     },
     "execution_count": 134,
     "metadata": {},
     "output_type": "execute_result"
    }
   ],
   "source": [
    "enumerate(this_list)"
   ]
  },
  {
   "cell_type": "code",
   "execution_count": 135,
   "metadata": {},
   "outputs": [
    {
     "data": {
      "text/plain": [
       "[(0, 'who'),\n",
       " (1, 'is'),\n",
       " (2, 'number'),\n",
       " (3, '1'),\n",
       " (4, True),\n",
       " (5, False),\n",
       " (6, 2.538),\n",
       " (7, 2000),\n",
       " (8, None)]"
      ]
     },
     "execution_count": 135,
     "metadata": {},
     "output_type": "execute_result"
    }
   ],
   "source": [
    "list(enumerate(this_list))"
   ]
  },
  {
   "cell_type": "code",
   "execution_count": 137,
   "metadata": {},
   "outputs": [
    {
     "name": "stdout",
     "output_type": "stream",
     "text": [
      "4 True <class 'bool'>\n",
      "5 False <class 'bool'>\n",
      "6 2.538 <class 'float'>\n",
      "7 2000 <class 'int'>\n",
      "8 None <class 'NoneType'>\n"
     ]
    }
   ],
   "source": [
    "for index, item in enumerate(this_list):\n",
    "    if type(item) is not str:\n",
    "        print(index, item, type(item))"
   ]
  },
  {
   "cell_type": "markdown",
   "metadata": {},
   "source": [
    "#### Exercise:\n",
    "\n",
    "I'd like to know how many words are in each line of zen, but only if there are more than 3 words in the line. \n",
    "\n",
    "Use loops, conditionals, string interpolation, and `enumerate` to build code that:\n",
    "* `\"Line ___ has ___ words.\"` if the line has 3 or more words in it, or\n",
    "* `\"Line ___ has fewer than 3 words.\"` if the line has fewer than 3 words in it."
   ]
  },
  {
   "cell_type": "code",
   "execution_count": null,
   "metadata": {
    "collapsed": true
   },
   "outputs": [],
   "source": [
    "# Your code here"
   ]
  },
  {
   "cell_type": "markdown",
   "metadata": {},
   "source": [
    "#### Exercise:\n",
    "\n",
    "Create a dictionary where the keys are the line numbers of `zen`, and the values are the lengths of the line (number of characters including punctuation and spaces)."
   ]
  },
  {
   "cell_type": "code",
   "execution_count": null,
   "metadata": {
    "collapsed": true
   },
   "outputs": [],
   "source": [
    "char_count_dict = {}\n",
    "\n",
    "# Your code here\n",
    "\n",
    "char_count_dict"
   ]
  },
  {
   "cell_type": "markdown",
   "metadata": {},
   "source": [
    "### Zip\n",
    "\n",
    "`zip` takes two lists or iterables and returns an iterable of tuples of the elements of the two lists. Here's an example:"
   ]
  },
  {
   "cell_type": "code",
   "execution_count": 138,
   "metadata": {
    "collapsed": true
   },
   "outputs": [],
   "source": [
    "a = [0,1,2,3,4]\n",
    "b = ['a','b','c','d','e']"
   ]
  },
  {
   "cell_type": "code",
   "execution_count": 139,
   "metadata": {},
   "outputs": [
    {
     "data": {
      "text/plain": [
       "<zip at 0x7fa5505e1408>"
      ]
     },
     "execution_count": 139,
     "metadata": {},
     "output_type": "execute_result"
    }
   ],
   "source": [
    "zip(a,b)"
   ]
  },
  {
   "cell_type": "code",
   "execution_count": 140,
   "metadata": {},
   "outputs": [
    {
     "data": {
      "text/plain": [
       "[(0, 'a'), (1, 'b'), (2, 'c'), (3, 'd'), (4, 'e')]"
      ]
     },
     "execution_count": 140,
     "metadata": {},
     "output_type": "execute_result"
    }
   ],
   "source": [
    "list(zip(a,b))"
   ]
  },
  {
   "cell_type": "code",
   "execution_count": 141,
   "metadata": {},
   "outputs": [
    {
     "data": {
      "text/plain": [
       "[(0, 'a'), (1, 'b'), (2, 'c'), (3, 'd'), (4, 'e')]"
      ]
     },
     "execution_count": 141,
     "metadata": {},
     "output_type": "execute_result"
    }
   ],
   "source": [
    "list(zip(range(len(b)), b))"
   ]
  },
  {
   "cell_type": "code",
   "execution_count": 142,
   "metadata": {},
   "outputs": [
    {
     "data": {
      "text/plain": [
       "[(0, 'a'), (1, 'b'), (2, 'c'), (3, 'd'), (4, 'e')]"
      ]
     },
     "execution_count": 142,
     "metadata": {},
     "output_type": "execute_result"
    }
   ],
   "source": [
    "list(enumerate(b))"
   ]
  },
  {
   "cell_type": "markdown",
   "metadata": {},
   "source": [
    "Be careful when your lists aren't the same length! `zip` will only go until the shorter list is done! See below:"
   ]
  },
  {
   "cell_type": "code",
   "execution_count": 143,
   "metadata": {},
   "outputs": [
    {
     "data": {
      "text/plain": [
       "[(1, 1), (2, 2), (3, 3)]"
      ]
     },
     "execution_count": 143,
     "metadata": {},
     "output_type": "execute_result"
    }
   ],
   "source": [
    "list(zip([1,2,3,4,5],[1,2,3]))"
   ]
  },
  {
   "cell_type": "markdown",
   "metadata": {},
   "source": [
    "## Comprehensions\n",
    "\n",
    "If the goal of a for loop is to populate a list or dictionary, it's a good idea to see if you can accomplish it in a list or dictionary comprehension. To practice comprehensions, write for loops first and then put them into comprehensions!\n",
    "\n",
    "### List comprehensions\n",
    "\n",
    "Example for loop structure:\n",
    "\n",
    "```python\n",
    "new_list = []\n",
    "for i in old_list:\n",
    "    new_list.append(some_fumction(i))\n",
    "```\n",
    "\n",
    "With list comprehensions, we can do all of this in one line:\n",
    "\n",
    "```python\n",
    "new_list = [some_function(i) for i in old_list]\n",
    "```\n",
    "\n",
    "There are rules for conditionals that will be explained through the examples below!\n",
    "\n",
    "Example: Create a list of the squares of the numbers 1 - 10 inclusive."
   ]
  },
  {
   "cell_type": "code",
   "execution_count": 144,
   "metadata": {},
   "outputs": [
    {
     "data": {
      "text/plain": [
       "[1, 4, 9, 16, 25, 36, 49, 64, 81, 100]"
      ]
     },
     "execution_count": 144,
     "metadata": {},
     "output_type": "execute_result"
    }
   ],
   "source": [
    "squared = []\n",
    "\n",
    "for i in range(1,11):\n",
    "    squared.append(i**2)\n",
    "\n",
    "squared"
   ]
  },
  {
   "cell_type": "code",
   "execution_count": 145,
   "metadata": {},
   "outputs": [
    {
     "data": {
      "text/plain": [
       "[1, 4, 9, 16, 25, 36, 49, 64, 81, 100]"
      ]
     },
     "execution_count": 145,
     "metadata": {},
     "output_type": "execute_result"
    }
   ],
   "source": [
    "squared_lc = [i**2 for i in range(1,11)]\n",
    "squared_lc"
   ]
  },
  {
   "cell_type": "code",
   "execution_count": 146,
   "metadata": {},
   "outputs": [
    {
     "data": {
      "text/plain": [
       "True"
      ]
     },
     "execution_count": 146,
     "metadata": {},
     "output_type": "execute_result"
    }
   ],
   "source": [
    "squared == squared_lc"
   ]
  },
  {
   "cell_type": "markdown",
   "metadata": {},
   "source": [
    "### Nested list comrehension\n",
    "\n",
    "\n",
    "\n",
    "Example: Create combinations of all the letters and numbers in lists `a` and `b`:"
   ]
  },
  {
   "cell_type": "code",
   "execution_count": 147,
   "metadata": {},
   "outputs": [
    {
     "data": {
      "text/plain": [
       "[0, 1, 2, 3, 4]"
      ]
     },
     "execution_count": 147,
     "metadata": {},
     "output_type": "execute_result"
    }
   ],
   "source": [
    "a"
   ]
  },
  {
   "cell_type": "code",
   "execution_count": 148,
   "metadata": {},
   "outputs": [
    {
     "data": {
      "text/plain": [
       "['a', 'b', 'c', 'd', 'e']"
      ]
     },
     "execution_count": 148,
     "metadata": {},
     "output_type": "execute_result"
    }
   ],
   "source": [
    "b"
   ]
  },
  {
   "cell_type": "code",
   "execution_count": 150,
   "metadata": {},
   "outputs": [
    {
     "data": {
      "text/plain": [
       "[(0, 'a'),\n",
       " (0, 'b'),\n",
       " (0, 'c'),\n",
       " (0, 'd'),\n",
       " (0, 'e'),\n",
       " (1, 'a'),\n",
       " (1, 'b'),\n",
       " (1, 'c'),\n",
       " (1, 'd'),\n",
       " (1, 'e')]"
      ]
     },
     "execution_count": 150,
     "metadata": {},
     "output_type": "execute_result"
    }
   ],
   "source": [
    "a_b_combinations = []\n",
    "\n",
    "for i in a:\n",
    "    for j in b:\n",
    "        a_b_combinations.append((i,j))\n",
    "\n",
    "a_b_combinations[:10]"
   ]
  },
  {
   "cell_type": "code",
   "execution_count": null,
   "metadata": {
    "collapsed": true
   },
   "outputs": [],
   "source": [
    "a_b_combinations = [(i,j) for i in a for j in b]\n",
    "a_b_combinations#[:10]"
   ]
  },
  {
   "cell_type": "markdown",
   "metadata": {},
   "source": [
    "### Conditionals\n",
    "\n",
    "You can also use conditionals in comprehensions! If you have an `if` or an `if/else`, using a comprehension is still a good idea. However, if you have multiple conditions (`if/elif/else`), you should use a for loop.\n",
    "\n",
    "Example: Only the even numbers (just one `if` statement)"
   ]
  },
  {
   "cell_type": "code",
   "execution_count": 151,
   "metadata": {},
   "outputs": [
    {
     "data": {
      "text/plain": [
       "[0, 2, 4]"
      ]
     },
     "execution_count": 151,
     "metadata": {},
     "output_type": "execute_result"
    }
   ],
   "source": [
    "evens = []\n",
    "\n",
    "for i in a:\n",
    "    if i%2 == 0:\n",
    "        evens.append(i)\n",
    "\n",
    "evens"
   ]
  },
  {
   "cell_type": "code",
   "execution_count": null,
   "metadata": {
    "collapsed": true
   },
   "outputs": [],
   "source": [
    "evens = [i for i in a if i%2 == 0]\n",
    "evens"
   ]
  },
  {
   "cell_type": "markdown",
   "metadata": {},
   "source": [
    "Example: Odd or Even"
   ]
  },
  {
   "cell_type": "code",
   "execution_count": 152,
   "metadata": {},
   "outputs": [
    {
     "data": {
      "text/plain": [
       "['even', 'odd', 'even', 'odd', 'even']"
      ]
     },
     "execution_count": 152,
     "metadata": {},
     "output_type": "execute_result"
    }
   ],
   "source": [
    "odd_or_even = []\n",
    "\n",
    "for i in a:\n",
    "    if i%2 == 0:\n",
    "        odd_or_even.append('even')\n",
    "    else:\n",
    "        odd_or_even.append('odd')\n",
    "\n",
    "odd_or_even"
   ]
  },
  {
   "cell_type": "code",
   "execution_count": 154,
   "metadata": {},
   "outputs": [
    {
     "data": {
      "text/plain": [
       "['even', 'odd', 'even', 'odd', 'even']"
      ]
     },
     "execution_count": 154,
     "metadata": {},
     "output_type": "execute_result"
    }
   ],
   "source": [
    "odd_or_even = ['even' if i%2 == 0 else 'odd' for i in a]\n",
    "odd_or_even"
   ]
  },
  {
   "cell_type": "markdown",
   "metadata": {},
   "source": [
    "Example: Nested conditionals"
   ]
  },
  {
   "cell_type": "code",
   "execution_count": 155,
   "metadata": {},
   "outputs": [
    {
     "data": {
      "text/plain": [
       "[(0, 'a'), (0, 'e'), (2, 'a'), (2, 'e'), (4, 'a'), (4, 'e')]"
      ]
     },
     "execution_count": 155,
     "metadata": {},
     "output_type": "execute_result"
    }
   ],
   "source": [
    "a_b_combinations = []\n",
    "\n",
    "for i in a:\n",
    "    for j in b:\n",
    "        if i%2 == 0:\n",
    "            if j in ['a','e','i','o','u','y']:\n",
    "                a_b_combinations.append((i,j))\n",
    "\n",
    "a_b_combinations"
   ]
  },
  {
   "cell_type": "code",
   "execution_count": 156,
   "metadata": {},
   "outputs": [
    {
     "data": {
      "text/plain": [
       "[(0, 'a'), (0, 'e'), (2, 'a'), (2, 'e'), (4, 'a'), (4, 'e')]"
      ]
     },
     "execution_count": 156,
     "metadata": {},
     "output_type": "execute_result"
    }
   ],
   "source": [
    "# Reminder: Show list comp whitespace formatting\n",
    "a_b_combinations = [(i,j) for i in a for j in b if (i%2 == 0) and (j in ['a','e','i','o','u','y'])]\n",
    "a_b_combinations"
   ]
  },
  {
   "cell_type": "markdown",
   "metadata": {},
   "source": [
    "### Dictionary Comprehension\n",
    "\n",
    "Dictionary comprehensions are just like list comprehensions but you need to provide a key and a value in your iteration. Below, let's convert these loops into dictionary comprehensions:"
   ]
  },
  {
   "cell_type": "markdown",
   "metadata": {},
   "source": [
    "Example: Create a `dict` where elements in `a` are the `keys` and elements in `b` are the `values`."
   ]
  },
  {
   "cell_type": "code",
   "execution_count": 157,
   "metadata": {},
   "outputs": [
    {
     "data": {
      "text/plain": [
       "{0: 'a', 1: 'b', 2: 'c', 3: 'd', 4: 'e'}"
      ]
     },
     "execution_count": 157,
     "metadata": {},
     "output_type": "execute_result"
    }
   ],
   "source": [
    "this_dict = {}\n",
    "for i, j in zip(a,b):\n",
    "    this_dict[i] = j\n",
    "this_dict"
   ]
  },
  {
   "cell_type": "code",
   "execution_count": 158,
   "metadata": {
    "scrolled": true
   },
   "outputs": [
    {
     "data": {
      "text/plain": [
       "{0: 'a', 1: 'b', 2: 'c', 3: 'd', 4: 'e'}"
      ]
     },
     "execution_count": 158,
     "metadata": {},
     "output_type": "execute_result"
    }
   ],
   "source": [
    "{i:j for i, j in zip(a,b)}"
   ]
  },
  {
   "cell_type": "markdown",
   "metadata": {},
   "source": [
    "Example: Create a `dict` where elements in `b` are the `values` and the index is the key with `enumerate`."
   ]
  },
  {
   "cell_type": "code",
   "execution_count": 159,
   "metadata": {},
   "outputs": [
    {
     "data": {
      "text/plain": [
       "{0: 'a', 1: 'b', 2: 'c', 3: 'd', 4: 'e'}"
      ]
     },
     "execution_count": 159,
     "metadata": {},
     "output_type": "execute_result"
    }
   ],
   "source": [
    "this_dict = {}\n",
    "for i, j in enumerate(b):\n",
    "    this_dict[i] = j\n",
    "this_dict"
   ]
  },
  {
   "cell_type": "code",
   "execution_count": 160,
   "metadata": {
    "scrolled": false
   },
   "outputs": [
    {
     "data": {
      "text/plain": [
       "{0: 'a', 1: 'b', 2: 'c', 3: 'd', 4: 'e'}"
      ]
     },
     "execution_count": 160,
     "metadata": {},
     "output_type": "execute_result"
    }
   ],
   "source": [
    "{i:j for i, j in enumerate(b)}"
   ]
  },
  {
   "cell_type": "markdown",
   "metadata": {},
   "source": [
    "Example: Create a `dict` where elements in `a` are the `keys` and elements in `b` are the `values` ONLY IF the `b` value is even.\n",
    "\n",
    "**HINT:** Use `%` (modulo)"
   ]
  },
  {
   "cell_type": "code",
   "execution_count": 161,
   "metadata": {},
   "outputs": [
    {
     "data": {
      "text/plain": [
       "{0: 'a', 2: 'c', 4: 'e'}"
      ]
     },
     "execution_count": 161,
     "metadata": {},
     "output_type": "execute_result"
    }
   ],
   "source": [
    "this_dict = {}\n",
    "for i, j in zip(a,b):\n",
    "    if i%2 == 0:\n",
    "        this_dict[i] = j\n",
    "this_dict"
   ]
  },
  {
   "cell_type": "code",
   "execution_count": 164,
   "metadata": {},
   "outputs": [
    {
     "data": {
      "text/plain": [
       "{0: 'a', 2: 'c', 4: 'e'}"
      ]
     },
     "execution_count": 164,
     "metadata": {},
     "output_type": "execute_result"
    }
   ],
   "source": [
    "{i:j for i,j in zip(a,b) if i%2 == 0}"
   ]
  },
  {
   "cell_type": "markdown",
   "metadata": {},
   "source": [
    "Example: Create a `dict` where...\n",
    "\n",
    "* The keys are derived from elements in `b`. If the element is a vowel, the key should be a string of three of that vowel. **HINT:** `3*'a'` = `'aaa'`\n",
    "* The values should be derived from `a`. If the element of `a` is even, the value should be the square of the element. If it's odd, the value shoud be 2x the element."
   ]
  },
  {
   "cell_type": "code",
   "execution_count": 167,
   "metadata": {},
   "outputs": [
    {
     "data": {
      "text/plain": [
       "{'aaa': 0, 'b': 2, 'c': 4, 'd': 6, 'eee': 16}"
      ]
     },
     "execution_count": 167,
     "metadata": {},
     "output_type": "execute_result"
    }
   ],
   "source": [
    "this_dict = {}\n",
    "for i, j in zip(a,b):\n",
    "    if j in ['a','e','i','o','u','y']:\n",
    "        j *= 3\n",
    "    if i%2 == 0:\n",
    "        i = i**2\n",
    "    else:\n",
    "        i = i*2\n",
    "    this_dict[j] = i\n",
    "this_dict"
   ]
  },
  {
   "cell_type": "code",
   "execution_count": 168,
   "metadata": {},
   "outputs": [
    {
     "data": {
      "text/plain": [
       "{'aaa': 0, 'b': 2, 'c': 4, 'd': 6, 'eee': 16}"
      ]
     },
     "execution_count": 168,
     "metadata": {},
     "output_type": "execute_result"
    }
   ],
   "source": [
    "this_dict = {j*3 if j in ['a','e','i','o','u','y'] else j:\n",
    "             i**2 if i%2 == 0 else i*2 \n",
    "             for i,j in zip(a,b)}\n",
    "this_dict"
   ]
  },
  {
   "cell_type": "markdown",
   "metadata": {},
   "source": [
    "#### Exercise:\n",
    "\n",
    "Using only dictionary comprehension, flip the key:value pairs in `this_dict` that was defined above. "
   ]
  },
  {
   "cell_type": "code",
   "execution_count": null,
   "metadata": {
    "collapsed": true
   },
   "outputs": [],
   "source": [
    "# Your code here"
   ]
  },
  {
   "cell_type": "markdown",
   "metadata": {},
   "source": [
    "## Functions\n",
    "\n",
    "Functions are a BIG tool in this course. They allow you to re-use your code without writing it a bunch of times!\n",
    "\n",
    "There is a basic structure to a function:\n",
    "\n",
    "```python\n",
    "def function_name(argument_1, argument_2, argument_3, argument_n = False):\n",
    "    if argument_n:\n",
    "        return argument_1+argument_2+argument_3\n",
    "    else:\n",
    "        return argument_1 * argument_2 * argument_3\n",
    "```\n",
    "\n",
    "First, the function is defined using `def`. The function is also given a name and arguments in this step. You can give your arguments default values as well by setting them equal to something when you define your function!\n",
    "\n",
    "The function should usually end with a `return` statement. For this statement, ask what you would like to get back at the end of the function. When using functions, you usually want to set the output to a variable so you can persist the work your function did!"
   ]
  },
  {
   "cell_type": "code",
   "execution_count": 170,
   "metadata": {
    "collapsed": true
   },
   "outputs": [],
   "source": [
    "lie = True"
   ]
  },
  {
   "cell_type": "code",
   "execution_count": 171,
   "metadata": {
    "scrolled": true
   },
   "outputs": [
    {
     "data": {
      "text/plain": [
       "True"
      ]
     },
     "execution_count": 171,
     "metadata": {},
     "output_type": "execute_result"
    }
   ],
   "source": [
    "lie"
   ]
  },
  {
   "cell_type": "code",
   "execution_count": 172,
   "metadata": {},
   "outputs": [
    {
     "name": "stdout",
     "output_type": "stream",
     "text": [
      "True\n"
     ]
    }
   ],
   "source": [
    "if True:\n",
    "    print('True')"
   ]
  },
  {
   "cell_type": "code",
   "execution_count": 173,
   "metadata": {},
   "outputs": [
    {
     "name": "stdout",
     "output_type": "stream",
     "text": [
      "True\n"
     ]
    }
   ],
   "source": [
    "if lie:\n",
    "    print('True')"
   ]
  },
  {
   "cell_type": "code",
   "execution_count": 176,
   "metadata": {
    "collapsed": true
   },
   "outputs": [],
   "source": [
    "def even_or_odd(number_list, lie = False):\n",
    "    '''\n",
    "    Tells whether each element in a list of numbers is even or odd.\n",
    "    '''\n",
    "    if lie:\n",
    "        return ['odd' if i%2 == 0 else 'even' for i in number_list]\n",
    "    return ['even' if i%2 == 0 else 'odd' for i in number_list]"
   ]
  },
  {
   "cell_type": "code",
   "execution_count": 177,
   "metadata": {},
   "outputs": [
    {
     "data": {
      "text/plain": [
       "['odd', 'even', 'odd', 'odd', 'odd', 'even', 'even']"
      ]
     },
     "execution_count": 177,
     "metadata": {},
     "output_type": "execute_result"
    }
   ],
   "source": [
    "even_odd_test = even_or_odd([1,2,3,5,7,4,6])\n",
    "even_odd_test"
   ]
  },
  {
   "cell_type": "code",
   "execution_count": 178,
   "metadata": {},
   "outputs": [
    {
     "data": {
      "text/plain": [
       "['even', 'odd', 'even', 'even', 'even', 'odd', 'odd']"
      ]
     },
     "execution_count": 178,
     "metadata": {},
     "output_type": "execute_result"
    }
   ],
   "source": [
    "even_odd_test_2 = even_or_odd([1,2,3,5,7,4,6], lie=True)\n",
    "even_odd_test_2"
   ]
  },
  {
   "cell_type": "markdown",
   "metadata": {},
   "source": [
    "#### Exercise:\n",
    "\n",
    "Write a function that takes two lists as arguments and returns all the possible *UNIQUE* combinations of those list elements as a `set` of tuples. \n",
    "\n",
    "Test this function on the lists given.\n",
    "\n",
    "**HINT:** use `set()`"
   ]
  },
  {
   "cell_type": "code",
   "execution_count": 181,
   "metadata": {
    "collapsed": true
   },
   "outputs": [],
   "source": [
    "list_1 = ['a','a','b','c','d']\n",
    "list_2 = ['A','B','C','C']"
   ]
  },
  {
   "cell_type": "code",
   "execution_count": 180,
   "metadata": {
    "collapsed": true
   },
   "outputs": [],
   "source": [
    "def get_combinations(first_list, second_list):\n",
    "    combinations = [(first, second) for first in first_list for second in second_list]\n",
    "    return combinations"
   ]
  },
  {
   "cell_type": "code",
   "execution_count": 182,
   "metadata": {},
   "outputs": [
    {
     "data": {
      "text/plain": [
       "[('a', 'A'),\n",
       " ('a', 'B'),\n",
       " ('a', 'C'),\n",
       " ('a', 'C'),\n",
       " ('a', 'A'),\n",
       " ('a', 'B'),\n",
       " ('a', 'C'),\n",
       " ('a', 'C'),\n",
       " ('b', 'A'),\n",
       " ('b', 'B'),\n",
       " ('b', 'C'),\n",
       " ('b', 'C'),\n",
       " ('c', 'A'),\n",
       " ('c', 'B'),\n",
       " ('c', 'C'),\n",
       " ('c', 'C'),\n",
       " ('d', 'A'),\n",
       " ('d', 'B'),\n",
       " ('d', 'C'),\n",
       " ('d', 'C')]"
      ]
     },
     "execution_count": 182,
     "metadata": {},
     "output_type": "execute_result"
    }
   ],
   "source": [
    "get_combinations(list_1, list_2)"
   ]
  },
  {
   "cell_type": "code",
   "execution_count": 183,
   "metadata": {
    "collapsed": true
   },
   "outputs": [],
   "source": [
    "def get_unique_combinations(first_list, second_list):\n",
    "    return set(get_combinations(first_list, second_list))"
   ]
  },
  {
   "cell_type": "code",
   "execution_count": 184,
   "metadata": {},
   "outputs": [
    {
     "data": {
      "text/plain": [
       "{('a', 'A'),\n",
       " ('a', 'B'),\n",
       " ('a', 'C'),\n",
       " ('b', 'A'),\n",
       " ('b', 'B'),\n",
       " ('b', 'C'),\n",
       " ('c', 'A'),\n",
       " ('c', 'B'),\n",
       " ('c', 'C'),\n",
       " ('d', 'A'),\n",
       " ('d', 'B'),\n",
       " ('d', 'C')}"
      ]
     },
     "execution_count": 184,
     "metadata": {},
     "output_type": "execute_result"
    }
   ],
   "source": [
    "get_unique_combinations(list_1, list_2)"
   ]
  },
  {
   "cell_type": "code",
   "execution_count": 192,
   "metadata": {
    "collapsed": true
   },
   "outputs": [],
   "source": [
    "some_dumb_list = ['a','a','b','b','c','d',1,2,3,4,5.0,3.0,3.1]"
   ]
  },
  {
   "cell_type": "code",
   "execution_count": 193,
   "metadata": {},
   "outputs": [
    {
     "data": {
      "text/plain": [
       "['a', 'a', 'b', 'b', 'c', 'd', 1, 2, 3, 4, 5.0, 3.0, 3.1]"
      ]
     },
     "execution_count": 193,
     "metadata": {},
     "output_type": "execute_result"
    }
   ],
   "source": [
    "some_dumb_list"
   ]
  },
  {
   "cell_type": "code",
   "execution_count": 194,
   "metadata": {},
   "outputs": [
    {
     "data": {
      "text/plain": [
       "{1, 2, 3, 'c', 'b', 4, 5.0, 3.1, 'a', 'd'}"
      ]
     },
     "execution_count": 194,
     "metadata": {},
     "output_type": "execute_result"
    }
   ],
   "source": [
    "set(some_dumb_list)"
   ]
  },
  {
   "cell_type": "code",
   "execution_count": 195,
   "metadata": {
    "collapsed": true
   },
   "outputs": [],
   "source": [
    "from random import shuffle"
   ]
  },
  {
   "cell_type": "code",
   "execution_count": 196,
   "metadata": {
    "collapsed": true
   },
   "outputs": [],
   "source": [
    "shuffle(some_dumb_list)"
   ]
  },
  {
   "cell_type": "code",
   "execution_count": 197,
   "metadata": {},
   "outputs": [
    {
     "data": {
      "text/plain": [
       "[1, 'a', 5.0, 2, 3.1, 'b', 'a', 'd', 3, 4, 'b', 3.0, 'c']"
      ]
     },
     "execution_count": 197,
     "metadata": {},
     "output_type": "execute_result"
    }
   ],
   "source": [
    "some_dumb_list"
   ]
  },
  {
   "cell_type": "code",
   "execution_count": 199,
   "metadata": {},
   "outputs": [
    {
     "data": {
      "text/plain": [
       "{1, 2, 3.1, 3, 5.0, 'b', 4, 'c', 'a', 'd'}"
      ]
     },
     "execution_count": 199,
     "metadata": {},
     "output_type": "execute_result"
    }
   ],
   "source": [
    "set(some_dumb_list)"
   ]
  },
  {
   "cell_type": "code",
   "execution_count": 200,
   "metadata": {},
   "outputs": [
    {
     "data": {
      "text/plain": [
       "{3.0}"
      ]
     },
     "execution_count": 200,
     "metadata": {},
     "output_type": "execute_result"
    }
   ],
   "source": [
    "set([3.0,3])"
   ]
  },
  {
   "cell_type": "code",
   "execution_count": 201,
   "metadata": {},
   "outputs": [
    {
     "data": {
      "text/plain": [
       "{3}"
      ]
     },
     "execution_count": 201,
     "metadata": {},
     "output_type": "execute_result"
    }
   ],
   "source": [
    "set([3,3.0])"
   ]
  },
  {
   "cell_type": "code",
   "execution_count": null,
   "metadata": {
    "collapsed": true
   },
   "outputs": [],
   "source": []
  }
 ],
 "metadata": {
  "kernelspec": {
   "display_name": "Python 3",
   "language": "python",
   "name": "python3"
  },
  "language_info": {
   "codemirror_mode": {
    "name": "ipython",
    "version": 3
   },
   "file_extension": ".py",
   "mimetype": "text/x-python",
   "name": "python",
   "nbconvert_exporter": "python",
   "pygments_lexer": "ipython3",
   "version": "3.6.2"
  }
 },
 "nbformat": 4,
 "nbformat_minor": 2
}
